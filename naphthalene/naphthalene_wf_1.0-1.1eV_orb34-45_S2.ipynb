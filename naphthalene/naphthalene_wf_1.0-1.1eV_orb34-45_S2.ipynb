{
 "cells": [
  {
   "cell_type": "markdown",
   "metadata": {},
   "source": [
    "# ePSproc: auto-gen template development, Jupyter-runner version TIDY\n",
    "\n",
    "10/02/20\n",
    "- Testing MFPAD thresholding for CH3I. SHOULD add a routine for this!\n",
    "\n",
    "12/01/20\n",
    "- Updated headers for (nb)Sphinx HTML compatibility (all down one level).\n",
    "\n",
    "10/01/20\n",
    "- Updating with Euler labels.\n",
    "- Incorporated changes from 16/12/19 version (unfinished).\n",
    "\n",
    "05/12/19\n",
    "- Updated with lmPlot() routine.\n",
    "\n",
    "05/11/19\n",
    "- Set for single template per ePS datafile.\n",
    "- Outputs BLM-L and BLM-V, named as per input file + datestamp."
   ]
  },
  {
   "cell_type": "markdown",
   "metadata": {},
   "source": [
    "## Set-up"
   ]
  },
  {
   "cell_type": "markdown",
   "metadata": {},
   "source": [
    "### Load modules"
   ]
  },
  {
   "cell_type": "code",
   "execution_count": 1,
   "metadata": {},
   "outputs": [
    {
     "name": "stdout",
     "output_type": "stream",
     "text": [
      "* pyevtk not found, VTK export not available. \n",
      "* plotly not found, plotly plots not available. \n"
     ]
    }
   ],
   "source": [
    "import sys\n",
    "import os\n",
    "import numpy as np\n",
    "import epsproc as ep\n",
    "\n",
    "from datetime import datetime as dt\n",
    "timeString = dt.now()"
   ]
  },
  {
   "cell_type": "markdown",
   "metadata": {},
   "source": [
    "### Load data"
   ]
  },
  {
   "cell_type": "code",
   "execution_count": 2,
   "metadata": {},
   "outputs": [],
   "source": [
    "# File path only, from env var DATAFILE\n",
    "# dataPath = os.getcwd()\n",
    "dataFile = os.environ.get('DATAFILE', '')"
   ]
  },
  {
   "cell_type": "code",
   "execution_count": 3,
   "metadata": {},
   "outputs": [
    {
     "name": "stdout",
     "output_type": "stream",
     "text": [
      "*** Job info from file header.\n",
      "\n",
      " ePS naphthalene, batch naphthalene_wf_1.0-1.1eV, orbital orb34-45_S2\n",
      " Naphthalene S2 component Orb 34 > 45 (B2u) ionization, wavefn test run on AntonJr\n",
      " E=1.0:1.0:1.1 (1 points)\n",
      " Thu Jun 27 17:27:59 EDT 2019\n",
      "\n",
      "*** Found orbitals\n",
      "1   1 Ene =     -11.2404 Spin =Alpha Occup =   2.000000\n",
      "2   2 Ene =     -11.2392 Spin =Alpha Occup =   2.000000\n",
      "3   3 Ene =     -11.2327 Spin =Alpha Occup =   2.000000\n",
      "4   4 Ene =     -11.2326 Spin =Alpha Occup =   2.000000\n",
      "5   5 Ene =     -11.2324 Spin =Alpha Occup =   2.000000\n",
      "6   6 Ene =     -11.2323 Spin =Alpha Occup =   2.000000\n",
      "7   7 Ene =     -11.2312 Spin =Alpha Occup =   2.000000\n",
      "8   8 Ene =     -11.2311 Spin =Alpha Occup =   2.000000\n",
      "9   9 Ene =     -11.2304 Spin =Alpha Occup =   2.000000\n",
      "10  10 Ene =     -11.2304 Spin =Alpha Occup =   2.000000\n",
      "11  11 Ene =      -1.1831 Spin =Alpha Occup =   2.000000\n",
      "12  12 Ene =      -1.1161 Spin =Alpha Occup =   2.000000\n",
      "13  13 Ene =      -1.0537 Spin =Alpha Occup =   2.000000\n",
      "14  14 Ene =      -1.0119 Spin =Alpha Occup =   2.000000\n",
      "15  15 Ene =      -0.9880 Spin =Alpha Occup =   2.000000\n",
      "16  16 Ene =      -0.8549 Spin =Alpha Occup =   2.000000\n",
      "17  17 Ene =      -0.8402 Spin =Alpha Occup =   2.000000\n",
      "18  18 Ene =      -0.8174 Spin =Alpha Occup =   2.000000\n",
      "19  19 Ene =      -0.7077 Spin =Alpha Occup =   2.000000\n",
      "20  20 Ene =      -0.7057 Spin =Alpha Occup =   2.000000\n",
      "21  21 Ene =      -0.6823 Spin =Alpha Occup =   2.000000\n",
      "22  22 Ene =      -0.6254 Spin =Alpha Occup =   2.000000\n",
      "23  23 Ene =      -0.6157 Spin =Alpha Occup =   2.000000\n",
      "24  24 Ene =      -0.5877 Spin =Alpha Occup =   2.000000\n",
      "25  25 Ene =      -0.5868 Spin =Alpha Occup =   2.000000\n",
      "26  26 Ene =      -0.5689 Spin =Alpha Occup =   2.000000\n",
      "27  27 Ene =      -0.5385 Spin =Alpha Occup =   2.000000\n",
      "28  28 Ene =      -0.5241 Spin =Alpha Occup =   2.000000\n",
      "29  29 Ene =      -0.4896 Spin =Alpha Occup =   2.000000\n",
      "30  30 Ene =      -0.4785 Spin =Alpha Occup =   2.000000\n",
      "31  31 Ene =      -0.4529 Spin =Alpha Occup =   2.000000\n",
      "32  32 Ene =      -0.3870 Spin =Alpha Occup =   2.000000\n",
      "33  33 Ene =      -0.3215 Spin =Alpha Occup =   2.000000\n",
      "34  34 Ene =      -0.2944 Spin =Alpha Occup =   2.000000\n",
      "35  35 Ene =       0.0295 Spin =Alpha Occup =   0.000000\n",
      "36  36 Ene =       0.0309 Spin =Alpha Occup =   0.000000\n",
      "37  37 Ene =       0.0316 Spin =Alpha Occup =   0.000000\n",
      "38  38 Ene =       0.0424 Spin =Alpha Occup =   0.000000\n",
      "39  39 Ene =       0.0447 Spin =Alpha Occup =   0.000000\n",
      "40  40 Ene =       0.0579 Spin =Alpha Occup =   0.000000\n",
      "41  41 Ene =       0.0625 Spin =Alpha Occup =   0.000000\n",
      "42  42 Ene =       0.0794 Spin =Alpha Occup =   0.000000\n",
      "43  43 Ene =       0.0798 Spin =Alpha Occup =   0.000000\n",
      "44  44 Ene =       0.0803 Spin =Alpha Occup =   0.000000\n",
      "45  45 Ene =       0.0892 Spin =Alpha Occup =   0.000000\n",
      "\n",
      "*** Found atoms\n",
      "Z =  6 ZS =  6 r =  -0.7023900000   0.0000000000   0.0000000000\n",
      "Z =  6 ZS =  6 r =   0.7023900000   0.0000000000   0.0000000000\n",
      "Z =  6 ZS =  6 r =  -1.3892300000   1.2396300000   0.0000000000\n",
      "Z =  6 ZS =  6 r =   1.3892300000   1.2396300000   0.0000000000\n",
      "Z =  6 ZS =  6 r =  -1.3892300000  -1.2396300000   0.0000000000\n",
      "Z =  6 ZS =  6 r =   1.3892300000  -1.2396300000   0.0000000000\n",
      "Z =  6 ZS =  6 r =  -0.7068400000   2.4097890000   0.0000000000\n",
      "Z =  6 ZS =  6 r =   0.7068400000   2.4097890000   0.0000000000\n",
      "Z =  6 ZS =  6 r =  -0.7068400000  -2.4097890000   0.0000000000\n",
      "Z =  6 ZS =  6 r =   0.7068400000  -2.4097890000   0.0000000000\n",
      "Z =  1 ZS =  1 r =  -2.4629990000   1.2381600000   0.0000000000\n",
      "Z =  1 ZS =  1 r =   2.4629990000   1.2381600000   0.0000000000\n",
      "Z =  1 ZS =  1 r =  -2.4629990000  -1.2381600000   0.0000000000\n",
      "Z =  1 ZS =  1 r =   2.4629990000  -1.2381600000   0.0000000000\n",
      "Z =  1 ZS =  1 r =  -1.2359200000   3.3433990000   0.0000000000\n",
      "Z =  1 ZS =  1 r =   1.2359200000   3.3433990000   0.0000000000\n",
      "Z =  1 ZS =  1 r =  -1.2359200000  -3.3433990000   0.0000000000\n",
      "Z =  1 ZS =  1 r =   1.2359200000  -3.3433990000   0.0000000000\n"
     ]
    }
   ],
   "source": [
    "jobInfo = ep.headerFileParse(dataFile)\n",
    "molInfo = ep.molInfoParse(dataFile)"
   ]
  },
  {
   "cell_type": "code",
   "execution_count": 4,
   "metadata": {},
   "outputs": [
    {
     "name": "stdout",
     "output_type": "stream",
     "text": [
      "*** ePSproc readMatEle(): scanning files for CrossSection segments.\n",
      "\n",
      "*** Scanning file(s)\n",
      "['/mnt/femtobackSSHFS/FemtoShare/Results/ePolyScat_stuff/naphthalene/naphthalene_wf_1.0-1.1eV/naphthalene_wf_1.0-1.1eV_orb34-45_S2.inp.out']\n",
      "\n",
      "*** Reading ePS output file:  /mnt/femtobackSSHFS/FemtoShare/Results/ePolyScat_stuff/naphthalene/naphthalene_wf_1.0-1.1eV/naphthalene_wf_1.0-1.1eV_orb34-45_S2.inp.out\n",
      "Expecting 1 energy points.\n",
      "Expecting 3 symmetries.\n",
      "Scanning CrossSection segments.\n",
      "Expecting 4 CrossSection segments.\n",
      "Found 4 CrossSection segments (sets of results).\n"
     ]
    },
    {
     "ename": "ValueError",
     "evalue": "dimension 'Ehv' already exists as a scalar variable",
     "output_type": "error",
     "traceback": [
      "\u001b[0;31m---------------------------------------------------------------------------\u001b[0m",
      "\u001b[0;31mValueError\u001b[0m                                Traceback (most recent call last)",
      "\u001b[0;32m<ipython-input-4-8faeb4b9ea12>\u001b[0m in \u001b[0;36m<module>\u001b[0;34m\u001b[0m\n\u001b[1;32m      6\u001b[0m \u001b[0;34m\u001b[0m\u001b[0m\n\u001b[1;32m      7\u001b[0m \u001b[0;31m# For single file\u001b[0m\u001b[0;34m\u001b[0m\u001b[0;34m\u001b[0m\u001b[0;34m\u001b[0m\u001b[0m\n\u001b[0;32m----> 8\u001b[0;31m \u001b[0mdataXS\u001b[0m \u001b[0;34m=\u001b[0m \u001b[0mep\u001b[0m\u001b[0;34m.\u001b[0m\u001b[0mreadMatEle\u001b[0m\u001b[0;34m(\u001b[0m\u001b[0mfileIn\u001b[0m \u001b[0;34m=\u001b[0m \u001b[0mdataFile\u001b[0m\u001b[0;34m,\u001b[0m \u001b[0mrecordType\u001b[0m \u001b[0;34m=\u001b[0m \u001b[0;34m'CrossSection'\u001b[0m\u001b[0;34m)\u001b[0m\u001b[0;34m\u001b[0m\u001b[0;34m\u001b[0m\u001b[0m\n\u001b[0m\u001b[1;32m      9\u001b[0m \u001b[0mdataMatE\u001b[0m \u001b[0;34m=\u001b[0m \u001b[0mep\u001b[0m\u001b[0;34m.\u001b[0m\u001b[0mreadMatEle\u001b[0m\u001b[0;34m(\u001b[0m\u001b[0mfileIn\u001b[0m \u001b[0;34m=\u001b[0m \u001b[0mdataFile\u001b[0m\u001b[0;34m,\u001b[0m \u001b[0mrecordType\u001b[0m \u001b[0;34m=\u001b[0m \u001b[0;34m'DumpIdy'\u001b[0m\u001b[0;34m)\u001b[0m\u001b[0;34m\u001b[0m\u001b[0;34m\u001b[0m\u001b[0m\n",
      "\u001b[0;32m~/anaconda3/envs/ePSproc-v1.2/lib/python3.7/site-packages/epsproc/IO.py\u001b[0m in \u001b[0;36mreadMatEle\u001b[0;34m(fileIn, fileBase, fType, recordType)\u001b[0m\n\u001b[1;32m   1466\u001b[0m             \u001b[0mprint\u001b[0m\u001b[0;34m(\u001b[0m\u001b[0;34m'Expecting {0} CrossSection segments.'\u001b[0m\u001b[0;34m.\u001b[0m\u001b[0mformat\u001b[0m\u001b[0;34m(\u001b[0m\u001b[0mlen\u001b[0m\u001b[0;34m(\u001b[0m\u001b[0msymSegs\u001b[0m\u001b[0;34m)\u001b[0m\u001b[0;34m+\u001b[0m\u001b[0;36m1\u001b[0m\u001b[0;34m)\u001b[0m\u001b[0;34m)\u001b[0m  \u001b[0;31m# Assuming 1 segment per symmetry, plus symm-summed case.\u001b[0m\u001b[0;34m\u001b[0m\u001b[0;34m\u001b[0m\u001b[0m\n\u001b[1;32m   1467\u001b[0m             \u001b[0mlines\u001b[0m\u001b[0;34m,\u001b[0m \u001b[0mdumpSegs\u001b[0m \u001b[0;34m=\u001b[0m \u001b[0mgetCroFileParse\u001b[0m\u001b[0;34m(\u001b[0m\u001b[0mfile\u001b[0m\u001b[0;34m)\u001b[0m\u001b[0;34m\u001b[0m\u001b[0;34m\u001b[0m\u001b[0m\n\u001b[0;32m-> 1468\u001b[0;31m             \u001b[0mdata\u001b[0m\u001b[0;34m,\u001b[0m \u001b[0mblankSegs\u001b[0m \u001b[0;34m=\u001b[0m \u001b[0mgetCroSegsParseX\u001b[0m\u001b[0;34m(\u001b[0m\u001b[0mdumpSegs\u001b[0m\u001b[0;34m,\u001b[0m \u001b[0msymSegs\u001b[0m\u001b[0;34m,\u001b[0m \u001b[0mekeList\u001b[0m\u001b[0;34m)\u001b[0m\u001b[0;34m\u001b[0m\u001b[0;34m\u001b[0m\u001b[0m\n\u001b[0m\u001b[1;32m   1469\u001b[0m \u001b[0;34m\u001b[0m\u001b[0m\n\u001b[1;32m   1470\u001b[0m \u001b[0;34m\u001b[0m\u001b[0m\n",
      "\u001b[0;32m~/anaconda3/envs/ePSproc-v1.2/lib/python3.7/site-packages/epsproc/IO.py\u001b[0m in \u001b[0;36mgetCroSegsParseX\u001b[0;34m(dumpSegs, symSegs, ekeList)\u001b[0m\n\u001b[1;32m   1101\u001b[0m     \u001b[0;31m# Reset energies to Eke, and shift key dim - might be a simpler/shorter way to do this...?\u001b[0m\u001b[0;34m\u001b[0m\u001b[0;34m\u001b[0m\u001b[0;34m\u001b[0m\u001b[0m\n\u001b[1;32m   1102\u001b[0m     \u001b[0mdaOut\u001b[0m\u001b[0;34m[\u001b[0m\u001b[0;34m'EhvOrig'\u001b[0m\u001b[0;34m]\u001b[0m \u001b[0;34m=\u001b[0m \u001b[0mdaOut\u001b[0m\u001b[0;34m[\u001b[0m\u001b[0;34m'Ehv'\u001b[0m\u001b[0;34m]\u001b[0m\u001b[0;34m\u001b[0m\u001b[0;34m\u001b[0m\u001b[0m\n\u001b[0;32m-> 1103\u001b[0;31m     \u001b[0mdaOut\u001b[0m\u001b[0;34m[\u001b[0m\u001b[0;34m'Ehv'\u001b[0m\u001b[0;34m]\u001b[0m \u001b[0;34m=\u001b[0m \u001b[0mekeList\u001b[0m\u001b[0;34m\u001b[0m\u001b[0;34m\u001b[0m\u001b[0m\n\u001b[0m\u001b[1;32m   1104\u001b[0m     \u001b[0mdaOut\u001b[0m \u001b[0;34m=\u001b[0m \u001b[0mdaOut\u001b[0m\u001b[0;34m.\u001b[0m\u001b[0mrename\u001b[0m\u001b[0;34m(\u001b[0m\u001b[0;34m{\u001b[0m\u001b[0;34m'Ehv'\u001b[0m\u001b[0;34m:\u001b[0m\u001b[0;34m'Eke'\u001b[0m\u001b[0;34m,\u001b[0m \u001b[0;34m'EhvOrig'\u001b[0m\u001b[0;34m:\u001b[0m\u001b[0;34m'Ehv'\u001b[0m\u001b[0;34m}\u001b[0m\u001b[0;34m)\u001b[0m\u001b[0;34m\u001b[0m\u001b[0;34m\u001b[0m\u001b[0m\n\u001b[1;32m   1105\u001b[0m     \u001b[0;31m# daOut.rename({'Ehv':'Eke'})\u001b[0m\u001b[0;34m\u001b[0m\u001b[0;34m\u001b[0m\u001b[0;34m\u001b[0m\u001b[0m\n",
      "\u001b[0;32m~/anaconda3/envs/ePSproc-v1.2/lib/python3.7/site-packages/xarray/core/dataarray.py\u001b[0m in \u001b[0;36m__setitem__\u001b[0;34m(self, key, value)\u001b[0m\n\u001b[1;32m    643\u001b[0m     \u001b[0;32mdef\u001b[0m \u001b[0m__setitem__\u001b[0m\u001b[0;34m(\u001b[0m\u001b[0mself\u001b[0m\u001b[0;34m,\u001b[0m \u001b[0mkey\u001b[0m\u001b[0;34m:\u001b[0m \u001b[0mAny\u001b[0m\u001b[0;34m,\u001b[0m \u001b[0mvalue\u001b[0m\u001b[0;34m:\u001b[0m \u001b[0mAny\u001b[0m\u001b[0;34m)\u001b[0m \u001b[0;34m->\u001b[0m \u001b[0;32mNone\u001b[0m\u001b[0;34m:\u001b[0m\u001b[0;34m\u001b[0m\u001b[0;34m\u001b[0m\u001b[0m\n\u001b[1;32m    644\u001b[0m         \u001b[0;32mif\u001b[0m \u001b[0misinstance\u001b[0m\u001b[0;34m(\u001b[0m\u001b[0mkey\u001b[0m\u001b[0;34m,\u001b[0m \u001b[0mstr\u001b[0m\u001b[0;34m)\u001b[0m\u001b[0;34m:\u001b[0m\u001b[0;34m\u001b[0m\u001b[0;34m\u001b[0m\u001b[0m\n\u001b[0;32m--> 645\u001b[0;31m             \u001b[0mself\u001b[0m\u001b[0;34m.\u001b[0m\u001b[0mcoords\u001b[0m\u001b[0;34m[\u001b[0m\u001b[0mkey\u001b[0m\u001b[0;34m]\u001b[0m \u001b[0;34m=\u001b[0m \u001b[0mvalue\u001b[0m\u001b[0;34m\u001b[0m\u001b[0;34m\u001b[0m\u001b[0m\n\u001b[0m\u001b[1;32m    646\u001b[0m         \u001b[0;32melse\u001b[0m\u001b[0;34m:\u001b[0m\u001b[0;34m\u001b[0m\u001b[0;34m\u001b[0m\u001b[0m\n\u001b[1;32m    647\u001b[0m             \u001b[0;31m# Coordinates in key, value and self[key] should be consistent.\u001b[0m\u001b[0;34m\u001b[0m\u001b[0;34m\u001b[0m\u001b[0;34m\u001b[0m\u001b[0m\n",
      "\u001b[0;32m~/anaconda3/envs/ePSproc-v1.2/lib/python3.7/site-packages/xarray/core/coordinates.py\u001b[0m in \u001b[0;36m__setitem__\u001b[0;34m(self, key, value)\u001b[0m\n\u001b[1;32m     38\u001b[0m \u001b[0;34m\u001b[0m\u001b[0m\n\u001b[1;32m     39\u001b[0m     \u001b[0;32mdef\u001b[0m \u001b[0m__setitem__\u001b[0m\u001b[0;34m(\u001b[0m\u001b[0mself\u001b[0m\u001b[0;34m,\u001b[0m \u001b[0mkey\u001b[0m\u001b[0;34m:\u001b[0m \u001b[0mHashable\u001b[0m\u001b[0;34m,\u001b[0m \u001b[0mvalue\u001b[0m\u001b[0;34m:\u001b[0m \u001b[0mAny\u001b[0m\u001b[0;34m)\u001b[0m \u001b[0;34m->\u001b[0m \u001b[0;32mNone\u001b[0m\u001b[0;34m:\u001b[0m\u001b[0;34m\u001b[0m\u001b[0;34m\u001b[0m\u001b[0m\n\u001b[0;32m---> 40\u001b[0;31m         \u001b[0mself\u001b[0m\u001b[0;34m.\u001b[0m\u001b[0mupdate\u001b[0m\u001b[0;34m(\u001b[0m\u001b[0;34m{\u001b[0m\u001b[0mkey\u001b[0m\u001b[0;34m:\u001b[0m \u001b[0mvalue\u001b[0m\u001b[0;34m}\u001b[0m\u001b[0;34m)\u001b[0m\u001b[0;34m\u001b[0m\u001b[0;34m\u001b[0m\u001b[0m\n\u001b[0m\u001b[1;32m     41\u001b[0m \u001b[0;34m\u001b[0m\u001b[0m\n\u001b[1;32m     42\u001b[0m     \u001b[0;34m@\u001b[0m\u001b[0mproperty\u001b[0m\u001b[0;34m\u001b[0m\u001b[0;34m\u001b[0m\u001b[0m\n",
      "\u001b[0;32m~/anaconda3/envs/ePSproc-v1.2/lib/python3.7/site-packages/xarray/core/coordinates.py\u001b[0m in \u001b[0;36mupdate\u001b[0;34m(self, other)\u001b[0m\n\u001b[1;32m    116\u001b[0m             \u001b[0;34m[\u001b[0m\u001b[0mself\u001b[0m\u001b[0;34m.\u001b[0m\u001b[0mvariables\u001b[0m\u001b[0;34m,\u001b[0m \u001b[0mother_vars\u001b[0m\u001b[0;34m]\u001b[0m\u001b[0;34m,\u001b[0m \u001b[0mpriority_arg\u001b[0m\u001b[0;34m=\u001b[0m\u001b[0;36m1\u001b[0m\u001b[0;34m,\u001b[0m \u001b[0mindexes\u001b[0m\u001b[0;34m=\u001b[0m\u001b[0mself\u001b[0m\u001b[0;34m.\u001b[0m\u001b[0mindexes\u001b[0m\u001b[0;34m\u001b[0m\u001b[0;34m\u001b[0m\u001b[0m\n\u001b[1;32m    117\u001b[0m         )\n\u001b[0;32m--> 118\u001b[0;31m         \u001b[0mself\u001b[0m\u001b[0;34m.\u001b[0m\u001b[0m_update_coords\u001b[0m\u001b[0;34m(\u001b[0m\u001b[0mcoords\u001b[0m\u001b[0;34m,\u001b[0m \u001b[0mindexes\u001b[0m\u001b[0;34m)\u001b[0m\u001b[0;34m\u001b[0m\u001b[0;34m\u001b[0m\u001b[0m\n\u001b[0m\u001b[1;32m    119\u001b[0m \u001b[0;34m\u001b[0m\u001b[0m\n\u001b[1;32m    120\u001b[0m     \u001b[0;32mdef\u001b[0m \u001b[0m_merge_raw\u001b[0m\u001b[0;34m(\u001b[0m\u001b[0mself\u001b[0m\u001b[0;34m,\u001b[0m \u001b[0mother\u001b[0m\u001b[0;34m)\u001b[0m\u001b[0;34m:\u001b[0m\u001b[0;34m\u001b[0m\u001b[0;34m\u001b[0m\u001b[0m\n",
      "\u001b[0;32m~/anaconda3/envs/ePSproc-v1.2/lib/python3.7/site-packages/xarray/core/coordinates.py\u001b[0m in \u001b[0;36m_update_coords\u001b[0;34m(self, coords, indexes)\u001b[0m\n\u001b[1;32m    289\u001b[0m         \u001b[0mcoords_plus_data\u001b[0m \u001b[0;34m=\u001b[0m \u001b[0mcoords\u001b[0m\u001b[0;34m.\u001b[0m\u001b[0mcopy\u001b[0m\u001b[0;34m(\u001b[0m\u001b[0;34m)\u001b[0m\u001b[0;34m\u001b[0m\u001b[0;34m\u001b[0m\u001b[0m\n\u001b[1;32m    290\u001b[0m         \u001b[0mcoords_plus_data\u001b[0m\u001b[0;34m[\u001b[0m\u001b[0m_THIS_ARRAY\u001b[0m\u001b[0;34m]\u001b[0m \u001b[0;34m=\u001b[0m \u001b[0mself\u001b[0m\u001b[0;34m.\u001b[0m\u001b[0m_data\u001b[0m\u001b[0;34m.\u001b[0m\u001b[0mvariable\u001b[0m\u001b[0;34m\u001b[0m\u001b[0;34m\u001b[0m\u001b[0m\n\u001b[0;32m--> 291\u001b[0;31m         \u001b[0mdims\u001b[0m \u001b[0;34m=\u001b[0m \u001b[0mcalculate_dimensions\u001b[0m\u001b[0;34m(\u001b[0m\u001b[0mcoords_plus_data\u001b[0m\u001b[0;34m)\u001b[0m\u001b[0;34m\u001b[0m\u001b[0;34m\u001b[0m\u001b[0m\n\u001b[0m\u001b[1;32m    292\u001b[0m         \u001b[0;32mif\u001b[0m \u001b[0;32mnot\u001b[0m \u001b[0mset\u001b[0m\u001b[0;34m(\u001b[0m\u001b[0mdims\u001b[0m\u001b[0;34m)\u001b[0m \u001b[0;34m<=\u001b[0m \u001b[0mset\u001b[0m\u001b[0;34m(\u001b[0m\u001b[0mself\u001b[0m\u001b[0;34m.\u001b[0m\u001b[0mdims\u001b[0m\u001b[0;34m)\u001b[0m\u001b[0;34m:\u001b[0m\u001b[0;34m\u001b[0m\u001b[0;34m\u001b[0m\u001b[0m\n\u001b[1;32m    293\u001b[0m             raise ValueError(\n",
      "\u001b[0;32m~/anaconda3/envs/ePSproc-v1.2/lib/python3.7/site-packages/xarray/core/dataset.py\u001b[0m in \u001b[0;36mcalculate_dimensions\u001b[0;34m(variables)\u001b[0m\n\u001b[1;32m    175\u001b[0m             \u001b[0;32mif\u001b[0m \u001b[0mdim\u001b[0m \u001b[0;32min\u001b[0m \u001b[0mscalar_vars\u001b[0m\u001b[0;34m:\u001b[0m\u001b[0;34m\u001b[0m\u001b[0;34m\u001b[0m\u001b[0m\n\u001b[1;32m    176\u001b[0m                 raise ValueError(\n\u001b[0;32m--> 177\u001b[0;31m                     \u001b[0;34m\"dimension %r already exists as a scalar \"\u001b[0m \u001b[0;34m\"variable\"\u001b[0m \u001b[0;34m%\u001b[0m \u001b[0mdim\u001b[0m\u001b[0;34m\u001b[0m\u001b[0;34m\u001b[0m\u001b[0m\n\u001b[0m\u001b[1;32m    178\u001b[0m                 )\n\u001b[1;32m    179\u001b[0m             \u001b[0;32mif\u001b[0m \u001b[0mdim\u001b[0m \u001b[0;32mnot\u001b[0m \u001b[0;32min\u001b[0m \u001b[0mdims\u001b[0m\u001b[0;34m:\u001b[0m\u001b[0;34m\u001b[0m\u001b[0;34m\u001b[0m\u001b[0m\n",
      "\u001b[0;31mValueError\u001b[0m: dimension 'Ehv' already exists as a scalar variable"
     ]
    }
   ],
   "source": [
    "# Scan file(s) for various data types...\n",
    "\n",
    "# For dir scan\n",
    "# dataXS = ep.readMatEle(fileBase = dataPath, recordType = 'CrossSection')\n",
    "# dataMatE = ep.readMatEle(fileBase = dataPath, recordType = 'DumpIdy')\n",
    "\n",
    "# For single file\n",
    "dataXS = ep.readMatEle(fileIn = dataFile, recordType = 'CrossSection')\n",
    "dataMatE = ep.readMatEle(fileIn = dataFile, recordType = 'DumpIdy')\n"
   ]
  },
  {
   "cell_type": "markdown",
   "metadata": {},
   "source": [
    "## Job & molecule info"
   ]
  },
  {
   "cell_type": "code",
   "execution_count": 5,
   "metadata": {},
   "outputs": [
    {
     "name": "stdout",
     "output_type": "stream",
     "text": [
      "\n",
      "*** Job summary data\n",
      " ePS naphthalene, batch naphthalene_wf_1.0-1.1eV, orbital orb34-45_S2\n",
      " Naphthalene S2 component Orb 34 > 45 (B2u) ionization, wavefn test run on AntonJr\n",
      " E=1.0:1.0:1.1 (1 points)\n",
      " Thu Jun 27 17:27:59 EDT 2019\n",
      "\n",
      "Electronic structure input: '/home/paul/ePS_stuff/naphthalene/electronic_structure/naphthalene_aug-cc-pVTZ_E_orbLT76_240619.molden'\n",
      "Initial state occ:\t\t [2 2 2 2 2 2 2 2 2 2 2 2 2 2 2 2 2 2 2 2 2 2 2 2 2 2 2 2 2 2 2 2 2 1 0 0 0\n",
      " 0 0 0 0 0 0 0 1]\n",
      "Final state occ:\t\t [2 2 2 2 2 2 2 2 2 2 2 2 2 2 2 2 2 2 2 2 2 2 2 2 2 2 2 2 2 2 2 2 2 1 0 0 0\n",
      " 0 0 0 0 0 0 0 0]\n",
      "IPot (input vertical IP, eV):\t\t 8.144\n",
      "\n",
      "*** Additional orbital info (SymProd)\n",
      "Ionizing orb:\t\t\t [0 0 0 0 0 0 0 0 0 0 0 0 0 0 0 0 0 0 0 0 0 0 0 0 0 0 0 0 0 0 0 0 0 0 0 0 0\n",
      " 0 0 0 0 0 0 0 1]\n",
      "Ionizing orb sym:\t\t ['B2G']\n",
      "Orb energy (eV):\t\t [2.42725563]\n",
      "Orb energy (H):\t\t\t [0.0892]\n",
      "Orb energy (cm^-1):\t\t [19577.13711872]\n",
      "Threshold wavelength (nm):\t 510.79991621642455\n",
      "\n",
      "*** Warning: some orbital convergences outside single-center expansion convergence tolerance (0.01):\n",
      "[[ 3.          0.91375834]\n",
      " [ 4.          0.91961138]\n",
      " [ 5.          0.94192943]\n",
      " [ 6.          0.93528526]\n",
      " [ 7.          0.90773097]\n",
      " [ 8.          0.91770688]\n",
      " [ 9.          0.90059297]\n",
      " [10.          0.8914772 ]]\n",
      "\n",
      "*** Molecular structure\n",
      "\n"
     ]
    },
    {
     "data": {
      "image/png": "[encoded data removed]",
      "text/plain": [
       "<Figure size 432x288 with 1 Axes>"
      ]
     },
     "metadata": {
      "needs_background": "light"
     },
     "output_type": "display_data"
    }
   ],
   "source": [
    "ep.jobSummary(jobInfo, molInfo);"
   ]
  },
  {
   "cell_type": "markdown",
   "metadata": {},
   "source": [
    "## 1-photon ePS Cross-Sections\n",
    "Plot 1-photon cross-sections and $beta_2$ parameters (for an unaligned ensemble) from ePS calculations. These are taken directly from the ePS output file, `CrossSection` segments. See the [ePS manual, `GetCro` command, for further details](https://www.chem.tamu.edu/rgroup/lucchese/ePolyScat.E3.manual/GetCro.html)."
   ]
  },
  {
   "cell_type": "markdown",
   "metadata": {},
   "source": [
    "### Cross-sections by symmetry & type\n",
    "\n",
    "Types correspond to:\n",
    "\n",
    "- 'L': length gauge results.\n",
    "- 'V': velocity gauge results.\n",
    "- 'M': mixed gauge results.\n",
    "\n",
    "Symmetries correspond to allowed ionizing transitions for the molecular point group (IRs typically corresponding to (x,y,z) polarization geometries), see the [ePS manual for a list of symmetries](https://www.chem.tamu.edu/rgroup/lucchese/ePolyScat.E3.manual/SymmetryLabels.html). Symmetry `All` corresponds to the sum over all allowed sets of symmetries.\n",
    "\n",
    "Cross-section units are MBarn."
   ]
  },
  {
   "cell_type": "code",
   "execution_count": 6,
   "metadata": {},
   "outputs": [
    {
     "ename": "NameError",
     "evalue": "name 'dataXS' is not defined",
     "output_type": "error",
     "traceback": [
      "\u001b[0;31m---------------------------------------------------------------------------\u001b[0m",
      "\u001b[0;31mNameError\u001b[0m                                 Traceback (most recent call last)",
      "\u001b[0;32m<ipython-input-6-3441781d073d>\u001b[0m in \u001b[0;36m<module>\u001b[0;34m\u001b[0m\n\u001b[1;32m      1\u001b[0m \u001b[0;31m# Plot cross sections using Xarray functionality\u001b[0m\u001b[0;34m\u001b[0m\u001b[0;34m\u001b[0m\u001b[0;34m\u001b[0m\u001b[0m\n\u001b[1;32m      2\u001b[0m \u001b[0;31m# Set here to plot per file - should add some logic to combine files.\u001b[0m\u001b[0;34m\u001b[0m\u001b[0;34m\u001b[0m\u001b[0;34m\u001b[0m\u001b[0m\n\u001b[0;32m----> 3\u001b[0;31m \u001b[0;32mfor\u001b[0m \u001b[0mdata\u001b[0m \u001b[0;32min\u001b[0m \u001b[0mdataXS\u001b[0m\u001b[0;34m:\u001b[0m\u001b[0;34m\u001b[0m\u001b[0;34m\u001b[0m\u001b[0m\n\u001b[0m\u001b[1;32m      4\u001b[0m     \u001b[0mdaPlot\u001b[0m \u001b[0;34m=\u001b[0m \u001b[0mdata\u001b[0m\u001b[0;34m.\u001b[0m\u001b[0msel\u001b[0m\u001b[0;34m(\u001b[0m\u001b[0mXC\u001b[0m\u001b[0;34m=\u001b[0m\u001b[0;34m'SIGMA'\u001b[0m\u001b[0;34m)\u001b[0m\u001b[0;34m\u001b[0m\u001b[0;34m\u001b[0m\u001b[0m\n\u001b[1;32m      5\u001b[0m     \u001b[0mdaPlot\u001b[0m\u001b[0;34m.\u001b[0m\u001b[0mplot\u001b[0m\u001b[0;34m.\u001b[0m\u001b[0mline\u001b[0m\u001b[0;34m(\u001b[0m\u001b[0mx\u001b[0m\u001b[0;34m=\u001b[0m\u001b[0;34m'Eke'\u001b[0m\u001b[0;34m,\u001b[0m \u001b[0mcol\u001b[0m\u001b[0;34m=\u001b[0m\u001b[0;34m'Type'\u001b[0m\u001b[0;34m)\u001b[0m\u001b[0;34m\u001b[0m\u001b[0;34m\u001b[0m\u001b[0m\n",
      "\u001b[0;31mNameError\u001b[0m: name 'dataXS' is not defined"
     ]
    }
   ],
   "source": [
    "# Plot cross sections using Xarray functionality\n",
    "# Set here to plot per file - should add some logic to combine files.\n",
    "for data in dataXS:\n",
    "    daPlot = data.sel(XC='SIGMA')\n",
    "    daPlot.plot.line(x='Eke', col='Type')"
   ]
  },
  {
   "cell_type": "markdown",
   "metadata": {},
   "source": [
    "### $\\beta_{2}$ by symmetry & type\n",
    "\n",
    "Types & symmetries as per cross-sections.  Normalized $\\beta_{2}$ paramters, dimensionless."
   ]
  },
  {
   "cell_type": "code",
   "execution_count": 7,
   "metadata": {},
   "outputs": [
    {
     "ename": "NameError",
     "evalue": "name 'dataXS' is not defined",
     "output_type": "error",
     "traceback": [
      "\u001b[0;31m---------------------------------------------------------------------------\u001b[0m",
      "\u001b[0;31mNameError\u001b[0m                                 Traceback (most recent call last)",
      "\u001b[0;32m<ipython-input-7-569a95772a22>\u001b[0m in \u001b[0;36m<module>\u001b[0;34m\u001b[0m\n\u001b[1;32m      1\u001b[0m \u001b[0;31m# Repeat for betas\u001b[0m\u001b[0;34m\u001b[0m\u001b[0;34m\u001b[0m\u001b[0;34m\u001b[0m\u001b[0m\n\u001b[0;32m----> 2\u001b[0;31m \u001b[0;32mfor\u001b[0m \u001b[0mdata\u001b[0m \u001b[0;32min\u001b[0m \u001b[0mdataXS\u001b[0m\u001b[0;34m:\u001b[0m\u001b[0;34m\u001b[0m\u001b[0;34m\u001b[0m\u001b[0m\n\u001b[0m\u001b[1;32m      3\u001b[0m     \u001b[0mdaPlot\u001b[0m \u001b[0;34m=\u001b[0m \u001b[0mdata\u001b[0m\u001b[0;34m.\u001b[0m\u001b[0msel\u001b[0m\u001b[0;34m(\u001b[0m\u001b[0mXC\u001b[0m\u001b[0;34m=\u001b[0m\u001b[0;34m'BETA'\u001b[0m\u001b[0;34m)\u001b[0m\u001b[0;34m\u001b[0m\u001b[0;34m\u001b[0m\u001b[0m\n\u001b[1;32m      4\u001b[0m     \u001b[0mdaPlot\u001b[0m\u001b[0;34m.\u001b[0m\u001b[0mplot\u001b[0m\u001b[0;34m.\u001b[0m\u001b[0mline\u001b[0m\u001b[0;34m(\u001b[0m\u001b[0mx\u001b[0m\u001b[0;34m=\u001b[0m\u001b[0;34m'Eke'\u001b[0m\u001b[0;34m,\u001b[0m \u001b[0mcol\u001b[0m\u001b[0;34m=\u001b[0m\u001b[0;34m'Type'\u001b[0m\u001b[0;34m)\u001b[0m\u001b[0;34m\u001b[0m\u001b[0;34m\u001b[0m\u001b[0m\n",
      "\u001b[0;31mNameError\u001b[0m: name 'dataXS' is not defined"
     ]
    }
   ],
   "source": [
    "# Repeat for betas\n",
    "for data in dataXS:\n",
    "    daPlot = data.sel(XC='BETA')\n",
    "    daPlot.plot.line(x='Eke', col='Type')"
   ]
  },
  {
   "cell_type": "markdown",
   "metadata": {},
   "source": [
    "## Dipole matrix elements\n",
    "For 1-photon ionization. These are taken directly from ePS `DumpIdy` segments. See the [ePS manual, `DumpIdy` command, for further details](https://www.chem.tamu.edu/rgroup/lucchese/ePolyScat.E3.manual/DumpIdy.html)."
   ]
  },
  {
   "cell_type": "code",
   "execution_count": 8,
   "metadata": {},
   "outputs": [],
   "source": [
    "# Set threshold for significance, only matrix elements with abs values > thres % will be plotted\n",
    "thres = 0.1"
   ]
  },
  {
   "cell_type": "code",
   "execution_count": 9,
   "metadata": {},
   "outputs": [
    {
     "ename": "NameError",
     "evalue": "name 'dataMatE' is not defined",
     "output_type": "error",
     "traceback": [
      "\u001b[0;31m---------------------------------------------------------------------------\u001b[0m",
      "\u001b[0;31mNameError\u001b[0m                                 Traceback (most recent call last)",
      "\u001b[0;32m<ipython-input-9-4f839cff563c>\u001b[0m in \u001b[0;36m<module>\u001b[0;34m\u001b[0m\n\u001b[1;32m      1\u001b[0m \u001b[0;31m# Plot for each fie\u001b[0m\u001b[0;34m\u001b[0m\u001b[0;34m\u001b[0m\u001b[0;34m\u001b[0m\u001b[0m\n\u001b[0;32m----> 2\u001b[0;31m \u001b[0;32mfor\u001b[0m \u001b[0mdata\u001b[0m \u001b[0;32min\u001b[0m \u001b[0mdataMatE\u001b[0m\u001b[0;34m:\u001b[0m\u001b[0;34m\u001b[0m\u001b[0;34m\u001b[0m\u001b[0m\n\u001b[0m\u001b[1;32m      3\u001b[0m     \u001b[0;31m# Plot with sensible defaults - all dims with lmPlot()\u001b[0m\u001b[0;34m\u001b[0m\u001b[0;34m\u001b[0m\u001b[0;34m\u001b[0m\u001b[0m\n\u001b[1;32m      4\u001b[0m \u001b[0;34m\u001b[0m\u001b[0m\n\u001b[1;32m      5\u001b[0m     \u001b[0;31m# Plot only values > theshold\u001b[0m\u001b[0;34m\u001b[0m\u001b[0;34m\u001b[0m\u001b[0;34m\u001b[0m\u001b[0m\n",
      "\u001b[0;31mNameError\u001b[0m: name 'dataMatE' is not defined"
     ]
    }
   ],
   "source": [
    "# Plot for each fie\n",
    "for data in dataMatE:\n",
    "    # Plot with sensible defaults - all dims with lmPlot()\n",
    "    \n",
    "    # Plot only values > theshold\n",
    "    daPlot, daPlotpd, legendList, gFig = ep.lmPlot(data, thres = thres, thresType = 'pc', figsize = (15,10))\n",
    "\n",
    "    # Plot phases, with unwrap\n",
    "    daPlot, daPlotpd, legendList, gFig = ep.lmPlot(data, thres = thres, thresType = 'pc', figsize = (15,10), pType='phaseUW')"
   ]
  },
  {
   "cell_type": "markdown",
   "metadata": {},
   "source": [
    "## MFPADs\n",
    "\n",
    "Calculated MF $\\beta$ parameters, using ePS dipole matrix elements. These are calculated by `ep.mfblm()`, as a function of energy and polarization geometry. See [the ePSproc docs on `ep.mfblm()`](https://epsproc.readthedocs.io/en/latest/modules/epsproc.MFBLM.html) for further details, and [this demo notebook](https://epsproc.readthedocs.io/en/latest/ePSproc_BLM_calc_demo_Sept2019_rst/ePSproc_BLM_calc_demo_Sept2019.html)."
   ]
  },
  {
   "cell_type": "code",
   "execution_count": 10,
   "metadata": {},
   "outputs": [],
   "source": [
    "# Set pol geoms - these correspond to (z,x,y) in molecular frame (relative to principle/symmetry axis)\n",
    "eAngs = ep.setPolGeoms()"
   ]
  },
  {
   "cell_type": "code",
   "execution_count": 11,
   "metadata": {},
   "outputs": [
    {
     "ename": "NameError",
     "evalue": "name 'dataMatE' is not defined",
     "output_type": "error",
     "traceback": [
      "\u001b[0;31m---------------------------------------------------------------------------\u001b[0m",
      "\u001b[0;31mNameError\u001b[0m                                 Traceback (most recent call last)",
      "\u001b[0;32m<ipython-input-11-d96eb88528b8>\u001b[0m in \u001b[0;36m<module>\u001b[0;34m\u001b[0m\n\u001b[1;32m      4\u001b[0m \u001b[0;31m# TODO - file logic, and parallelize\u001b[0m\u001b[0;34m\u001b[0m\u001b[0;34m\u001b[0m\u001b[0;34m\u001b[0m\u001b[0m\n\u001b[1;32m      5\u001b[0m \u001b[0mBLM\u001b[0m \u001b[0;34m=\u001b[0m \u001b[0;34m[\u001b[0m\u001b[0;34m]\u001b[0m\u001b[0;34m\u001b[0m\u001b[0;34m\u001b[0m\u001b[0m\n\u001b[0;32m----> 6\u001b[0;31m \u001b[0;32mfor\u001b[0m \u001b[0mdata\u001b[0m \u001b[0;32min\u001b[0m \u001b[0mdataMatE\u001b[0m\u001b[0;34m:\u001b[0m\u001b[0;34m\u001b[0m\u001b[0;34m\u001b[0m\u001b[0m\n\u001b[0m\u001b[1;32m      7\u001b[0m     BLM.append(ep.mfblmEuler(data, selDims = {'Type':'L'}, eAngs = eAngs, thres = thres, \n\u001b[1;32m      8\u001b[0m                              SFflag = True, verbose = 0))  # Run for all Eke, selected gauge only\n",
      "\u001b[0;31mNameError\u001b[0m: name 'dataMatE' is not defined"
     ]
    }
   ],
   "source": [
    "# Drop threshold for MF calcs\n",
    "thres = 1e-3\n",
    "# Calculate for each fie & pol geom\n",
    "# TODO - file logic, and parallelize\n",
    "BLM = []\n",
    "for data in dataMatE:\n",
    "    BLM.append(ep.mfblmEuler(data, selDims = {'Type':'L'}, eAngs = eAngs, thres = thres, \n",
    "                             SFflag = True, verbose = 0))  # Run for all Eke, selected gauge only"
   ]
  },
  {
   "cell_type": "code",
   "execution_count": 12,
   "metadata": {},
   "outputs": [],
   "source": [
    "# Save BLM data - defaults to working dir and 'ep_timestamp' file\n",
    "# TODO - testing for array/multiple file case\n",
    "for data in BLM:\n",
    "    fileName = dataFile + '_BLM-L_' + timeString.strftime('%Y-%m-%d_%H-%M-%S')\n",
    "    ep.writeXarray(data, fileName = fileName)"
   ]
  },
  {
   "cell_type": "code",
   "execution_count": 13,
   "metadata": {},
   "outputs": [],
   "source": [
    "# Normalize and plot results\n",
    "for BLMplot in BLM:\n",
    "    # Plot unnormalized B00 only, real part\n",
    "    # This is/should be in units of MBarn (TBC).\n",
    "#     BLMplot.where(np.abs(BLMplot) > thres, drop = True).real.squeeze().sel({'l':0, 'm':0}).plot.line(x='Eke', col='Euler');\n",
    "    BLMplot.XS.real.squeeze().plot.line(x='Eke', col='Euler');\n",
    "\n",
    "    # Plot values normalised by B00 - now set in calculation function\n",
    "    # Plot results with lmPlot(), ordering by Euler sets\n",
    "    # Version with (semi-manual) Euler grouping\n",
    "    daPlot, daPlotpd, legendList, gFig = ep.lmPlot(BLMplot.swap_dims({'Euler':'Labels'}), SFflag = False, eulerGroup = True,\n",
    "                                                   thresType = 'pc', thres = thres,\n",
    "                                                   plotDims = ('Labels','l','m'), \n",
    "                                                   figsize = (15,10))"
   ]
  },
  {
   "cell_type": "markdown",
   "metadata": {},
   "source": [
    "## Error & consistency checks"
   ]
  },
  {
   "cell_type": "code",
   "execution_count": 14,
   "metadata": {},
   "outputs": [
    {
     "ename": "NameError",
     "evalue": "name 'dataMatE' is not defined",
     "output_type": "error",
     "traceback": [
      "\u001b[0;31m---------------------------------------------------------------------------\u001b[0m",
      "\u001b[0;31mNameError\u001b[0m                                 Traceback (most recent call last)",
      "\u001b[0;32m<ipython-input-14-3496137be468>\u001b[0m in \u001b[0;36m<module>\u001b[0;34m\u001b[0m\n\u001b[1;32m      1\u001b[0m \u001b[0;31m# Check SF values\u001b[0m\u001b[0;34m\u001b[0m\u001b[0;34m\u001b[0m\u001b[0;34m\u001b[0m\u001b[0m\n\u001b[0;32m----> 2\u001b[0;31m \u001b[0;32mfor\u001b[0m \u001b[0mdata\u001b[0m \u001b[0;32min\u001b[0m \u001b[0mdataMatE\u001b[0m\u001b[0;34m:\u001b[0m\u001b[0;34m\u001b[0m\u001b[0;34m\u001b[0m\u001b[0m\n\u001b[0m\u001b[1;32m      3\u001b[0m     \u001b[0;31m# Plot values, single plot\u001b[0m\u001b[0;34m\u001b[0m\u001b[0;34m\u001b[0m\u001b[0;34m\u001b[0m\u001b[0m\n\u001b[1;32m      4\u001b[0m     \u001b[0mdata\u001b[0m\u001b[0;34m.\u001b[0m\u001b[0mSF\u001b[0m\u001b[0;34m.\u001b[0m\u001b[0mpipe\u001b[0m\u001b[0;34m(\u001b[0m\u001b[0mnp\u001b[0m\u001b[0;34m.\u001b[0m\u001b[0mabs\u001b[0m\u001b[0;34m)\u001b[0m\u001b[0;34m.\u001b[0m\u001b[0mplot\u001b[0m\u001b[0;34m.\u001b[0m\u001b[0mline\u001b[0m\u001b[0;34m(\u001b[0m\u001b[0mx\u001b[0m\u001b[0;34m=\u001b[0m\u001b[0;34m'Eke'\u001b[0m\u001b[0;34m)\u001b[0m\u001b[0;34m\u001b[0m\u001b[0;34m\u001b[0m\u001b[0m\n\u001b[1;32m      5\u001b[0m     \u001b[0mdata\u001b[0m\u001b[0;34m.\u001b[0m\u001b[0mSF\u001b[0m\u001b[0;34m.\u001b[0m\u001b[0mreal\u001b[0m\u001b[0;34m.\u001b[0m\u001b[0mplot\u001b[0m\u001b[0;34m.\u001b[0m\u001b[0mline\u001b[0m\u001b[0;34m(\u001b[0m\u001b[0mx\u001b[0m\u001b[0;34m=\u001b[0m\u001b[0;34m'Eke'\u001b[0m\u001b[0;34m)\u001b[0m\u001b[0;34m\u001b[0m\u001b[0;34m\u001b[0m\u001b[0m\n",
      "\u001b[0;31mNameError\u001b[0m: name 'dataMatE' is not defined"
     ]
    }
   ],
   "source": [
    "# Check SF values\n",
    "for data in dataMatE:\n",
    "    # Plot values, single plot\n",
    "    data.SF.pipe(np.abs).plot.line(x='Eke')\n",
    "    data.SF.real.plot.line(x='Eke')\n",
    "    data.SF.imag.plot.line(x='Eke')\n",
    "    \n",
    "    # Plot values, facet plot\n",
    "#     data.SF.pipe(np.abs).plot.line(x='Eke', col='Sym')\n"
   ]
  },
  {
   "cell_type": "code",
   "execution_count": 15,
   "metadata": {},
   "outputs": [
    {
     "ename": "NameError",
     "evalue": "name 'dataMatE' is not defined",
     "output_type": "error",
     "traceback": [
      "\u001b[0;31m---------------------------------------------------------------------------\u001b[0m",
      "\u001b[0;31mNameError\u001b[0m                                 Traceback (most recent call last)",
      "\u001b[0;32m<ipython-input-15-50c02a5879af>\u001b[0m in \u001b[0;36m<module>\u001b[0;34m\u001b[0m\n\u001b[1;32m      4\u001b[0m \u001b[0mBLMv\u001b[0m \u001b[0;34m=\u001b[0m \u001b[0;34m[\u001b[0m\u001b[0;34m]\u001b[0m\u001b[0;34m\u001b[0m\u001b[0;34m\u001b[0m\u001b[0m\n\u001b[1;32m      5\u001b[0m \u001b[0mBLMdiff\u001b[0m \u001b[0;34m=\u001b[0m \u001b[0;34m[\u001b[0m\u001b[0;34m]\u001b[0m\u001b[0;34m\u001b[0m\u001b[0;34m\u001b[0m\u001b[0m\n\u001b[0;32m----> 6\u001b[0;31m \u001b[0;32mfor\u001b[0m \u001b[0mn\u001b[0m\u001b[0;34m,\u001b[0m \u001b[0mdata\u001b[0m \u001b[0;32min\u001b[0m \u001b[0menumerate\u001b[0m\u001b[0;34m(\u001b[0m\u001b[0mdataMatE\u001b[0m\u001b[0;34m)\u001b[0m\u001b[0;34m:\u001b[0m\u001b[0;34m\u001b[0m\u001b[0;34m\u001b[0m\u001b[0m\n\u001b[0m\u001b[1;32m      7\u001b[0m     BLMv.append(ep.mfblmEuler(data, selDims = {'Type':'V'}, eAngs = eAngs, thres = thres, \n\u001b[1;32m      8\u001b[0m                              SFflag = True, verbose = 0))  # Run for all Eke, selected gauge only\n",
      "\u001b[0;31mNameError\u001b[0m: name 'dataMatE' is not defined"
     ]
    }
   ],
   "source": [
    "# Compare calculated BLMs for L and V types (dafault above for L)\n",
    "\n",
    "# Calculate for each fie & pol geom, and compare.\n",
    "BLMv = []\n",
    "BLMdiff = []\n",
    "for n, data in enumerate(dataMatE):\n",
    "    BLMv.append(ep.mfblmEuler(data, selDims = {'Type':'V'}, eAngs = eAngs, thres = thres, \n",
    "                             SFflag = True, verbose = 0))  # Run for all Eke, selected gauge only\n",
    "    \n",
    "    BLMdiff.append(BLM[n] - BLMv[n])\n",
    "    BLMdiff[n]['dXS'] = BLM[n].XS - BLMv[n].XS  # Set XS too, dropped in calc above\n",
    "\n",
    "    BLMdiff[n].attrs['dataType'] = 'matE'"
   ]
  },
  {
   "cell_type": "code",
   "execution_count": 16,
   "metadata": {},
   "outputs": [],
   "source": [
    "# Save BLM data - defaults to working dir and 'ep_timestamp' file\n",
    "# TODO - testing for array/multiple file case\n",
    "for data in BLMv:\n",
    "    fileName = dataFile + '_BLM-V_' + timeString.strftime('%Y-%m-%d_%H-%M-%S')\n",
    "    ep.writeXarray(data, fileName = fileName)"
   ]
  },
  {
   "cell_type": "code",
   "execution_count": 17,
   "metadata": {},
   "outputs": [],
   "source": [
    "# Normalize and plot results\n",
    "for BLMplot in BLMv:\n",
    "    # Plot unnormalized B00 only, real part\n",
    "    # This is/should be in units of MBarn (TBC).\n",
    "#     BLMplot.where(np.abs(BLMplot) > thres, drop = True).real.squeeze().sel({'l':0, 'm':0}).plot.line(x='Eke', col='Euler');\n",
    "    BLMplot.XS.real.squeeze().plot.line(x='Eke', col='Euler');\n",
    "\n",
    "    # Plot values normalised by B00 - now set in calculation function\n",
    "    # Plot results with lmPlot(), ordering by Euler sets\n",
    "    # Version with (semi-manual) Euler grouping\n",
    "    daPlot, daPlotpd, legendList, gFig = ep.lmPlot(BLMplot.swap_dims({'Euler':'Labels'}), SFflag = False, eulerGroup = True,\n",
    "                                                   thresType = 'pc', thres = thres,\n",
    "                                                   plotDims = ('Labels','l','m'), \n",
    "                                                   figsize = (15,10))"
   ]
  },
  {
   "cell_type": "code",
   "execution_count": 18,
   "metadata": {},
   "outputs": [
    {
     "name": "stdout",
     "output_type": "stream",
     "text": [
      "Differences, L vs. V gauge BLMs\n"
     ]
    }
   ],
   "source": [
    "# Difference between 'L' and 'V' results\n",
    "# NOTE - this currently drops XS\n",
    "\n",
    "print('Differences, L vs. V gauge BLMs')\n",
    "\n",
    "for BLMplot in BLMdiff:\n",
    "    maxDiff = BLMplot.max()\n",
    "    print(f'Max difference in BLMs (L-V): {0}', maxDiff.data)\n",
    "    \n",
    "    if np.abs(maxDiff) > thres:\n",
    "        # Plot B00 only, real part\n",
    "#         BLMplot.where(np.abs(BLMplot) > thres, drop = True).real.squeeze().sel({'l':0, 'm':0}).plot.line(x='Eke', col='Euler');\n",
    "        BLMplot.dXS.real.squeeze().plot.line(x='Eke', col='Euler');\n",
    "\n",
    "        # Plot values normalised by B00 - now set in calculation function\n",
    "        # Plot results with lmPlot(), ordering by Euler sets\n",
    "        # Version with (semi-manual) Euler grouping\n",
    "        daPlot, daPlotpd, legendList, gFig = ep.lmPlot(BLMplot.swap_dims({'Euler':'Labels'}), SFflag = False, eulerGroup = True,\n",
    "                                                       thresType = 'pc', thres = thres,\n",
    "                                                       plotDims = ('Labels','l','m'), \n",
    "                                                       figsize = (15,10))\n"
   ]
  },
  {
   "cell_type": "code",
   "execution_count": 19,
   "metadata": {},
   "outputs": [
    {
     "name": "stdout",
     "output_type": "stream",
     "text": [
      "Machine tolerance:  2.220446049250313e-16\n"
     ]
    }
   ],
   "source": [
    "# Check imaginary components - should be around machine tolerance.\n",
    "print('Machine tolerance: ', np.finfo(float).eps)\n",
    "for BLMplot in BLM:\n",
    "    maxImag = BLMplot.imag.max()\n",
    "    print(f'Max imaginary value: {0}', maxImag.data)\n",
    "    \n",
    "#     BLMplot.where(np.abs(BLMplot) > thres, drop = True).imag.squeeze().plot.line(x='Eke', col='Euler');\n",
    "    \n",
    "    BLMplot = ep.matEleSelector(BLMplot, thres=thres, dims = 'Eke')\n",
    "    BLMplot.imag.squeeze().plot.line(x='Eke', col='Euler');"
   ]
  },
  {
   "cell_type": "markdown",
   "metadata": {},
   "source": [
    "## Version info"
   ]
  },
  {
   "cell_type": "markdown",
   "metadata": {},
   "source": [
    "### Original job details"
   ]
  },
  {
   "cell_type": "code",
   "execution_count": 20,
   "metadata": {},
   "outputs": [
    {
     "name": "stdout",
     "output_type": "stream",
     "text": [
      "ePolyScat Version E3\n",
      "Run:  2019-06-27  17:28:03.213 (GMT -0400)\n"
     ]
    }
   ],
   "source": [
    "print(jobInfo['ePolyScat'][0])\n",
    "print('Run: ' + jobInfo['Starting'][0].split('at')[1])"
   ]
  },
  {
   "cell_type": "markdown",
   "metadata": {},
   "source": [
    "### ePSproc details"
   ]
  },
  {
   "cell_type": "code",
   "execution_count": 21,
   "metadata": {},
   "outputs": [],
   "source": [
    "templateVersion = '0.0.6'\n",
    "templateDate = '12/01/20'"
   ]
  },
  {
   "cell_type": "code",
   "execution_count": 22,
   "metadata": {},
   "outputs": [],
   "source": [
    "%load_ext version_information"
   ]
  },
  {
   "cell_type": "code",
   "execution_count": 23,
   "metadata": {},
   "outputs": [
    {
     "data": {
      "application/json": {
       "Software versions": [
        {
         "module": "Python",
         "version": "3.7.5 64bit [GCC 7.3.0]"
        },
        {
         "module": "IPython",
         "version": "7.9.0"
        },
        {
         "module": "OS",
         "version": "Linux 5.0.0 36 generic x86_64 with debian buster sid"
        },
        {
         "module": "epsproc",
         "version": "1.2.4"
        },
        {
         "module": "xarray",
         "version": "0.14.0"
        }
       ]
      },
      "text/html": [
       "<table><tr><th>Software</th><th>Version</th></tr><tr><td>Python</td><td>3.7.5 64bit [GCC 7.3.0]</td></tr><tr><td>IPython</td><td>7.9.0</td></tr><tr><td>OS</td><td>Linux 5.0.0 36 generic x86_64 with debian buster sid</td></tr><tr><td>epsproc</td><td>1.2.4</td></tr><tr><td>xarray</td><td>0.14.0</td></tr><tr><td colspan='2'>Thu Feb 13 16:33:07 2020 EST</td></tr></table>"
      ],
      "text/latex": [
       "\\begin{tabular}{|l|l|}\\hline\n",
       "{\\bf Software} & {\\bf Version} \\\\ \\hline\\hline\n",
       "Python & 3.7.5 64bit [GCC 7.3.0] \\\\ \\hline\n",
       "IPython & 7.9.0 \\\\ \\hline\n",
       "OS & Linux 5.0.0 36 generic x86\\_64 with debian buster sid \\\\ \\hline\n",
       "epsproc & 1.2.4 \\\\ \\hline\n",
       "xarray & 0.14.0 \\\\ \\hline\n",
       "\\hline \\multicolumn{2}{|l|}{Thu Feb 13 16:33:07 2020 EST} \\\\ \\hline\n",
       "\\end{tabular}\n"
      ],
      "text/plain": [
       "Software versions\n",
       "Python 3.7.5 64bit [GCC 7.3.0]\n",
       "IPython 7.9.0\n",
       "OS Linux 5.0.0 36 generic x86_64 with debian buster sid\n",
       "epsproc 1.2.4\n",
       "xarray 0.14.0\n",
       "Thu Feb 13 16:33:07 2020 EST"
      ]
     },
     "execution_count": 23,
     "metadata": {},
     "output_type": "execute_result"
    }
   ],
   "source": [
    "%version_information epsproc, xarray"
   ]
  },
  {
   "cell_type": "code",
   "execution_count": 24,
   "metadata": {},
   "outputs": [
    {
     "name": "stdout",
     "output_type": "stream",
     "text": [
      "Run: 2020-02-13_16-33-06\n",
      "Host: jake\n"
     ]
    }
   ],
   "source": [
    "print('Run: {}'.format(timeString.strftime('%Y-%m-%d_%H-%M-%S')))\n",
    "host = !hostname\n",
    "print('Host: {}'.format(host[0]))"
   ]
  },
  {
   "cell_type": "code",
   "execution_count": null,
   "metadata": {},
   "outputs": [],
   "source": []
  }
 ],
 "metadata": {
  "kernelspec": {
   "display_name": "Python 3",
   "language": "python",
   "name": "python3"
  },
  "language_info": {
   "codemirror_mode": {
    "name": "ipython",
    "version": 3
   },
   "file_extension": ".py",
   "mimetype": "text/x-python",
   "name": "python",
   "nbconvert_exporter": "python",
   "pygments_lexer": "ipython3",
   "version": "3.7.5"
  }
 },
 "nbformat": 4,
 "nbformat_minor": 4
}
